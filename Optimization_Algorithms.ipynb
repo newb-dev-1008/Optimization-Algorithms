{
  "nbformat": 4,
  "nbformat_minor": 0,
  "metadata": {
    "colab": {
      "name": "Optimization Algorithms.ipynb",
      "provenance": [],
      "authorship_tag": "ABX9TyM7mooha0O7D5j+xB4K123G",
      "include_colab_link": true
    },
    "kernelspec": {
      "name": "python3",
      "display_name": "Python 3"
    }
  },
  "cells": [
    {
      "cell_type": "markdown",
      "metadata": {
        "id": "view-in-github",
        "colab_type": "text"
      },
      "source": [
        "<a href=\"https://colab.research.google.com/github/newb-dev-1008/Optimization-Algorithms/blob/master/Optimization_Algorithms.ipynb\" target=\"_parent\"><img src=\"https://colab.research.google.com/assets/colab-badge.svg\" alt=\"Open In Colab\"/></a>"
      ]
    },
    {
      "cell_type": "markdown",
      "metadata": {
        "id": "bBe75TZtDqe9",
        "colab_type": "text"
      },
      "source": [
        "\n",
        "\n",
        "# **Direct Search Algorithms**\n"
      ]
    },
    {
      "cell_type": "code",
      "metadata": {
        "id": "X_SiL7CIDWrr",
        "colab_type": "code",
        "colab": {}
      },
      "source": [
        "from math import sin,cos,tan,exp,sqrt\n",
        "\n",
        "def exhaustive_search(x):\n",
        "    m=(x**2)+(54/x)\n",
        "    return m\n",
        "\n",
        "\n",
        "x=input(\"enter your function:\")\n",
        "print(x)\n",
        "\n",
        "a=float(input(\"Enter your first interval:\"))\n",
        "b=float(input(\"enter your lAST interval:\"))\n",
        "\n",
        "#\n",
        "L=b-a\n",
        "\n",
        "print(L)\n",
        "    \n",
        "x1=merafunction(a)\n",
        "x2=merafunction(b)\n",
        "\n",
        "print(x1)\n",
        "print(x2)"
      ],
      "execution_count": null,
      "outputs": []
    }
  ]
}