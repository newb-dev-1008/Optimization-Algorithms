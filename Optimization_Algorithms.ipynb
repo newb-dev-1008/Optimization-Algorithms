{
  "nbformat": 4,
  "nbformat_minor": 0,
  "metadata": {
    "colab": {
      "name": "Optimization Algorithms.ipynb",
      "provenance": [],
      "collapsed_sections": [],
      "toc_visible": true,
      "include_colab_link": true
    },
    "kernelspec": {
      "name": "python3",
      "display_name": "Python 3"
    }
  },
  "cells": [
    {
      "cell_type": "markdown",
      "metadata": {
        "id": "view-in-github",
        "colab_type": "text"
      },
      "source": [
        "<a href=\"https://colab.research.google.com/github/newb-dev-1008/Optimization-Algorithms/blob/master/Optimization_Algorithms.ipynb\" target=\"_parent\"><img src=\"https://colab.research.google.com/assets/colab-badge.svg\" alt=\"Open In Colab\"/></a>"
      ]
    },
    {
      "cell_type": "markdown",
      "metadata": {
        "id": "L7glXYbBZ1Sr"
      },
      "source": [
        "# **Optimization Techniques: Simulation Assignment**\n",
        "\n",
        "## **5th Semester, ECE - C**\n",
        "### **Group No. 1:**\n",
        "1. Shariq Akhtar P.P. (BL.EN.U4ECE18140)\n",
        "2. Shashank BJ (BL.EN.U4ECE18141)\n",
        "3. Suraj S M (BL.EN.U4ECE18154)\n",
        "4. Talluri Sayanth Kishore (BL.EN.U4ECE18157)\n",
        "5. Vikas Reddy S (BL.EN.U4ECE18172)\n",
        "6. Yash Rajesh Umale (BL.EN.U4ECE18182)\n"
      ]
    },
    {
      "cell_type": "markdown",
      "metadata": {
        "id": "0SmNI6OOPEPP"
      },
      "source": [
        "# **Single Variable Optimization Algorithms**"
      ]
    },
    {
      "cell_type": "markdown",
      "metadata": {
        "id": "bBe75TZtDqe9"
      },
      "source": [
        "\n",
        "\n",
        "## **Direct Search Algorithms:**\n"
      ]
    },
    {
      "cell_type": "markdown",
      "metadata": {
        "id": "DWCrGdPrMxNm"
      },
      "source": [
        "### **Bracketing Methods:**"
      ]
    },
    {
      "cell_type": "markdown",
      "metadata": {
        "id": "vBDdMXqzb_pY"
      },
      "source": [
        "\n",
        "#### **Exhaustive Search**"
      ]
    },
    {
      "cell_type": "code",
      "metadata": {
        "id": "e5lCLQNXcCL1"
      },
      "source": [
        "def Exhaustive_Search():\n",
        "    s = str(input(\"Please enter your mathematical function:\\n\"))    # Input the mathematical expression\n",
        "    a = float(input(\"Enter the start of interval: \"))\n",
        "    b = float(input(\"Enter the end of interval: \"))\n",
        "    n = float(input(\"enter the number of divisions:\"))\n",
        "    delta = (b-a)/n\n",
        "    k = 1\n",
        "\n",
        "    #initial 3 values\n",
        "    x1=a\n",
        "    x2=a+delta\n",
        "    x3=a+delta+delta\n",
        "\n",
        "    #we dont know how many iteration we need so we keep checking till we get our desired input / encounter our desired output\n",
        "    while (b-a) > 0:\n",
        "        print(\"Iteration \", k,\":\\n\")\n",
        "        print(\"x1 = {0:10.5f} , x2 = {1:10.5f} , x3 = {2:10.5f}\\n\\n\".format(x1,x2,x3))\n",
        "    #evaluate the values of x1,x1+delta,x1+2*delta\n",
        "   \n",
        "        f1=float(evalFunc(x1,s))\n",
        "        f2=float(evalFunc(x2,s))\n",
        "        f3=float(evalFunc(x3,s))\n",
        "        \n",
        "        print(\"f(x1)={0:10.5f}\\n\".format(f1))\n",
        "        print(\"f(x2)={0:10.5f}\\n\".format(f2))\n",
        "        print(\"f(x3)={0:10.5f}\\n\".format(f3))\n",
        "        \n",
        "        #this will see if the next iteration hhas a larger value than the previous if it has it will stop and break the program at that point\n",
        "        if (f1>f2) and (f3>f2):\n",
        "            print(\"f(x1) >= f(x2) <= f(x3)\\n\")\n",
        "            print(\"your minimum lies in the interval of ({0:10.5f},{1:10.5f})\".format(x1,x3))\n",
        "            break\n",
        "        \n",
        "        x1=x2\n",
        "        x2=x3\n",
        "        x3=x2+delta\n",
        "        k += 1\n",
        "        \n",
        "        if(x3>b):\n",
        "            print(\"No minimum exists in ({0},{1}) or a boundary point is the minumum point\".format(a,b))\n",
        "        else:\n",
        "            print(\"x3<b\\n\")"
      ],
      "execution_count": null,
      "outputs": []
    },
    {
      "cell_type": "markdown",
      "metadata": {
        "id": "PSe1oKzPNWF6"
      },
      "source": [
        "#### **Bounding Phase**"
      ]
    },
    {
      "cell_type": "code",
      "metadata": {
        "id": "G4_TTQTgb9kP"
      },
      "source": [
        "# Suraj's code here\n",
        "def Bounding_Phase():\n",
        "    \n",
        "    s = str(input(\"Please enter your mathematical function:\\n\"))\n",
        "    x=float(input(\"enter the initial point:\"))\n",
        "    d=float(input(\"enter the incremental value:\"))\n",
        "    \n",
        "    a=evalFunc(x-abs(d),s)\n",
        "    b=evalFunc(x,s)\n",
        "    c=evalFunc(x+abs(d),s)\n",
        "    print(\"\\nf(x0-|delta|)=\",a,\"\\n\")\n",
        "    print(\"f(x0)=\",b,\"\\n\")\n",
        "    print(\"f(x0+|delta|)=\",c,\"\\n\")\n",
        "    \n",
        "    if a>=b and b>=c:\n",
        "        d=abs(d)\n",
        "        print(\"f(x0-|delta|)>=f(x0)>=f(x0+|delta|)\\n\")\n",
        "        print(\"Delta is positive.\")\n",
        "        print(\"(Right search operation)\\n\")\n",
        "    \n",
        "    elif a<=b and b<=c:\n",
        "        d=-abs(d)\n",
        "        print(\"f(x0-|delta|)<=f(x0)<=f(x0+|delta|)\\n\")\n",
        "        print(\"Delta is negative.\\n\")\n",
        "        print(\"(Left search operation)\\n\")\n",
        "    \n",
        "    elif a>=b and b<=c:\n",
        "        print(\"f(x0-|delta|)>=f(x0)<=f(x0+|delta|)\\n\")\n",
        "        print(\"Minimum lies between %.5f & %.5f\"%(a,c))\n",
        "        sys.exit()\n",
        "    \n",
        "    else:\n",
        "        print(\"Need to change the initial point, restart the algorithm.\")\n",
        "        sys.exit()\n",
        "    \n",
        "    xk=x\n",
        "    k=0\n",
        "    xkminus1=xk\n",
        "    \n",
        "    while True:\n",
        "        xk1=xk+(2**(k)*d)\n",
        "        \n",
        "        print(\"Iteration \", k+1,\":\\n\")\n",
        "        print(\"x%d=%f\"%(k,xk))\n",
        "        print(\"x%d=%f\"%(k+1,xk1))\n",
        "        fxk1=evalFunc(xk1,s)\n",
        "        fxk=evalFunc(xk,s)\n",
        "        print(\"f(x%d)=%f\"%(k,fxk))\n",
        "        print(\"f(x%d)=%f\"%(k+1,fxk1))\n",
        "                     \n",
        "        if fxk1<fxk:\n",
        "            print(\"f(x(k+1))<f(x(k))\\n\")\n",
        "            k+=1\n",
        "        \n",
        "        else:\n",
        "            print(\"f(x(k+1))>=f(x(k))\\n\")\n",
        "            print(\"The minimum lies between %.5f & %.5f\"%(xkminus1,xk1))\n",
        "            break\n",
        "        \n",
        "        xkminus1=xk\n",
        "        xk=xk1"
      ],
      "execution_count": null,
      "outputs": []
    },
    {
      "cell_type": "markdown",
      "metadata": {
        "id": "yGjPI56LNkV0"
      },
      "source": [
        "### **Region Elimination Methods:**"
      ]
    },
    {
      "cell_type": "markdown",
      "metadata": {
        "id": "tNetseKKNr5d"
      },
      "source": [
        "#### **Interval Halving**"
      ]
    },
    {
      "cell_type": "code",
      "metadata": {
        "id": "3UEYMiW1b2q-"
      },
      "source": [
        "#Interval Halving method (Shariq)\n",
        "def Interval_Halving():\n",
        "  s = str(input(\"Please enter your mathematical function:\\n\"))    # Input the mathematical expression\n",
        "  a=float(input(\"Enter lower bound 'a':\"))\n",
        "  b=float(input(\"Enter upper bound 'b':\"))\n",
        "  # E=float(input(\"Enter termination parameter:\"))\n",
        "\n",
        "  n, E = inputParameters()\n",
        "  \n",
        "  xm=(a+b)/2\n",
        "  L=b-a\n",
        "  i=1\n",
        "  pk = 1\n",
        "  \n",
        "  while ((abs(L) >= E) and (pk <= n)):\n",
        "    pk += 1\n",
        "    x1=a+L/4\n",
        "    x2=b-L/4\n",
        "        \n",
        "    print(\"\\nITERATION\",i,\"\\n\")\n",
        "    print(\"x1=\",x1,\"\\n\")\n",
        "    print(\"x2=\",x2,\"\\n\")\n",
        "    print(\"L=\",L,\"\\n\")   \n",
        "    print(\"xm=\",xm,\"\\n\")\n",
        "    print(\"f(x1)=\",np.round(evalFunc(x1,s),5),\"\\n\")\n",
        "    print(\"f(x2)=\",np.round(evalFunc(x2,s),5),\"\\n\")\n",
        "    print(\"f(xm)=\",np.round(evalFunc(xm,s),5),\"\\n\")\n",
        "    \n",
        "    if evalFunc(x1,s)<evalFunc(xm,s):\n",
        "          b=xm\n",
        "          xm=x1\n",
        "          L=b-a\n",
        "          print(\"f(x1)<f(xm)\\n\")\n",
        "          print(\"Minimum is in the new interval (\",a,\",\",b,\")\\n\")\n",
        "          print(\"L=\",L,\"\\n\")\n",
        "          if abs(L)<E:\n",
        "              print(\"Minimum lies between (\",a,\",\",b,\")\\n\")\n",
        "              break\n",
        "              \n",
        "    elif evalFunc(x2,s)<evalFunc(xm,s):\n",
        "        a=xm\n",
        "        xm=x2\n",
        "        L=b-a\n",
        "        print(\"f(x2)<f(xm)\\n\")\n",
        "        print(\"Minimum is in the new interval (\",a,\",\",b,\")\\n\")\n",
        "        print(\"L=\",L,\"\\n\")\n",
        "        if abs(L)<E:\n",
        "              print(\"Minimum lies between (\",a,\",\",b,\")\\n\")\n",
        "              break\n",
        "    \n",
        "    else:\n",
        "        a=x1\n",
        "        b=x2\n",
        "        L=b-a\n",
        "        print(\" f(x1)>f(xm)\\n f(x2)>f(xm)\\n\")\n",
        "        print(\"Minimum is in the new interval (\",a,\",\",b,\")\\n\")\n",
        "        print(\"L=\",L,\"\\n\")\n",
        "        if abs(L)<E:\n",
        "              print(\"|L|<E\\n\")\n",
        "              print(\"Minimum lies between (\",a,\",\",b,\")\\n\")\n",
        "              break\n",
        "    i+=1"
      ],
      "execution_count": null,
      "outputs": []
    },
    {
      "cell_type": "markdown",
      "metadata": {
        "id": "uRTSPU2MN5cz"
      },
      "source": [
        "#### **Fibonacci Search**"
      ]
    },
    {
      "cell_type": "code",
      "metadata": {
        "id": "LttH469YYMEn"
      },
      "source": [
        "def Fibonacci_Search():\n",
        "  \n",
        "  def F(n):                             #fibonacci number\n",
        "    if n==0 or n==1:\n",
        "      return (1)\n",
        "    else:\n",
        "      return (F(n-1)+F(n-2))\n",
        "  \n",
        "  s = str(input(\"Please enter your mathematical function:\\n\"))    # Input the mathematical expression\n",
        "  a=float(input(\"Enter lower bound 'a':\"))\n",
        "  b=float(input(\"Enter upper bound 'b':\"))\n",
        "  m=float(input(\"Enter number of function evaluations 'm':\"))\n",
        "  N, _ = inputParameters()\n",
        "\n",
        "  L=b-a\n",
        "  print(\"L=%f\" %L)\n",
        "  k=2\n",
        "  pk = 1\n",
        "\n",
        "  while (True and (pk <= N)):\n",
        "    pk += 1\n",
        "    Lk=F(m-k+1)*L/F(m+1)\n",
        "    x1=a+Lk\n",
        "    x2=b-Lk\n",
        "    f1=evalFunc(x1,s)\n",
        "    f2=evalFunc(x2,s)\n",
        "\n",
        "    print(\"\\nITERATION\",k-1,\"\\n\")\n",
        "    print(\"x1=\",x1,\"\\n\")\n",
        "    print(\"x2=\",x2,\"\\n\")\n",
        "    print(\"Lk=\",Lk,\"\\n\")\n",
        "    print(\"f(x1)=\",np.round(f1,5),\"\\n\")                 #evalFunc returns numpy object so we use np.round insteaf of round\n",
        "    print(\"f(x2)=\",np.round(f2,5),\"\\n\")\n",
        "\n",
        "    if f1>f2:\n",
        "      a=x1\n",
        "      print(\"f(x1)>f(x2)\\n\")\n",
        "      print(\"Eliminate (a,x1)\\n\")\n",
        "      print(\"Minimum is in the new interval (\",a,\",\",b,\")\\n\")\n",
        "      if k==m:\n",
        "        print(\"k=m\\n\")\n",
        "        print(\"Minimum lies between (\",a,\",\",b,\")\\n\")\n",
        "        break\n",
        "\n",
        "    elif f1<f2:\n",
        "      b=x2\n",
        "      print(\"f(x1)<f(x2)\\n\")\n",
        "      print(\"Eliminate (x2,b)\\n\")\n",
        "      print(\"Minimum is in the new interval (\",a,\",\",b,\")\\n\")\n",
        "      if k==m:\n",
        "        print(\"k==m\\n\")\n",
        "        print(\"Minimum lies between (\",a,\",\",b,\")\\n\")\n",
        "        break\n",
        "\n",
        "    else:\n",
        "      a=x1\n",
        "      b=x2\n",
        "      print(\"f(x1)=f(x2)\\n\")\n",
        "      print(\"Eliminate (a,x1) & (x2,b)\\n\")\n",
        "      print(\"Minimum is in the new interval (\",a,\",\",b,\")\\n\")\n",
        "      if k==m:\n",
        "        print(\"k==m\\n\")\n",
        "        print(\"Minimum lies between (\",a,\",\",b,\")\\n\")\n",
        "        break\n",
        "\n",
        "    k+=1"
      ],
      "execution_count": null,
      "outputs": []
    },
    {
      "cell_type": "markdown",
      "metadata": {
        "id": "uchgVRpYOE-N"
      },
      "source": [
        "#### **Golden Section Search**"
      ]
    },
    {
      "cell_type": "code",
      "metadata": {
        "id": "Nxr49MpwcUSy"
      },
      "source": [
        "def Golden_Section_Search():\n",
        "  \n",
        "  def evalGSSFunc(no, st):\n",
        "    x = no*(b-a)+a                          #w=(x-a)/(b-a)  =>  x=w*(b-a)+a\n",
        "    y = ne.evaluate(st)\n",
        "\n",
        "    return y\n",
        "  \n",
        "  s = str(input(\"Please enter your mathematical function:\\n\"))    # Input the mathematical expression\n",
        "  a=float(input(\"Enter lower bound 'a':\"))\n",
        "  b=float(input(\"Enter upper bound 'b':\"))\n",
        "  N, E = inputParameters()\n",
        "\n",
        "  aw=0\n",
        "  bw=1\n",
        "  Lw=1\n",
        "  print(\"aw=0 \\nbw=0 \\nLw=1 \\n\")\n",
        "  k=1\n",
        "  pk = 1\n",
        "\n",
        "  while (True and (pk <= N)):\n",
        "    pk += 1\n",
        "    w1=aw+(0.618*Lw)\n",
        "    w2=bw-(0.618*Lw)\n",
        "    f1=evalGSSFunc(w1,s)\n",
        "    f2=evalGSSFunc(w2,s)\n",
        "    \n",
        "    print(\"\\nITERATION\",k,\"\\n\")\n",
        "    print(\"w1=\",w1,\"\\n\")\n",
        "    print(\"w2=\",w2,\"\\n\")\n",
        "    print(\"f(w1)=\",np.round(f1,5),\"\\n\")                 #evalFunc returns numpy object so we use np.round insteaf of round\n",
        "    print(\"f(w2)=\",np.round(f2,5),\"\\n\")\n",
        "    \n",
        "    if f1>f2:\n",
        "          bw=w1\n",
        "          Lw=bw-aw\n",
        "          print(\"f(w1)>f(w2)\\n\")\n",
        "          print(\"Eliminate (w1,bw)\\n\")\n",
        "          print(\"Minimum is in the new interval (\",aw,\",\",bw,\")\\n\")\n",
        "          print(\"aw=%f\\n\" %aw)\n",
        "          print(\"bw=%f\\n\" %bw)\n",
        "          print(\"Lw=%f\\n\" %Lw)\n",
        "          if Lw<abs(E):\n",
        "              print(\"Lw<|E|\\n\")\n",
        "              print(\"Minimum lies between (\",aw*(b-a)+a,\",\",bw*(b-a)+a,\")\\n\")\n",
        "              #A<w<B => A<(x-a)/(b-a)<B => A(b-a)+a<x<B(b-a)+a\n",
        "              break\n",
        "          else:\n",
        "              print(\"Lw>=|E|\\n\")\n",
        "              \n",
        "    elif f1<f2:\n",
        "        aw=w2\n",
        "        Lw=bw-aw\n",
        "        print(\"f(w1)<f(w2)\\n\")\n",
        "        print(\"Eliminate (aw,w2,)\\n\")\n",
        "        print(\"Minimum is in the new interval (\",aw,\",\",bw,\")\\n\")\n",
        "        print(\"aw=%f\\n\" %aw)\n",
        "        print(\"bw=%f\\n\" %bw)\n",
        "        print(\"Lw=%f\\n\" %Lw)\n",
        "        if Lw<abs(E):\n",
        "            print(\"Lw<|E|\\n\")\n",
        "            print(\"Minimum lies between (\",aw*(b-a)+a,\",\",bw*(b-a)+a,\")\\n\")\n",
        "            break\n",
        "        else:\n",
        "              print(\"Lw>=|E|\\n\")\n",
        "    \n",
        "    else:\n",
        "        aw=w2\n",
        "        bw=w1\n",
        "        Lw=bw-aw\n",
        "        print(\"f(w1)=f(w2)\\n\")\n",
        "        print(\"Eliminate (a,x1) & (x2,b)\\n\")\n",
        "        print(\"Minimum is in the new interval (\",a,\",\",b,\")\\n\")\n",
        "        if Lw<abs(E):\n",
        "            print(\"Lw<|E|\\n\")\n",
        "            print(\"Minimum lies between (\",aw*(b-a)+a,\",\",bw*(b-a)+a,\")\\n\")\n",
        "            break\n",
        "        else:\n",
        "              print(\"Lw>=|E|\\n\")\n",
        "        \n",
        "    k+=1\n",
        "    print(\"Minimum lies between (\",aw*(b-a)+a,\",\",bw*(b-a)+a,\")\\n\")"
      ],
      "execution_count": null,
      "outputs": []
    },
    {
      "cell_type": "markdown",
      "metadata": {
        "id": "FgbcGZZMOXeF"
      },
      "source": [
        "### **Point Estimation Method:**"
      ]
    },
    {
      "cell_type": "markdown",
      "metadata": {
        "id": "CG_Os4r9OkjD"
      },
      "source": [
        "#### **Successive Quadratic Estimation**"
      ]
    },
    {
      "cell_type": "code",
      "metadata": {
        "id": "gZyDNb0ccOia"
      },
      "source": [
        "# Vikas's code here\n",
        "def Successive_Quadratic_Estimation():\n",
        "  s = str(input(\"Please enter your mathematical function:\\n\"))\n",
        "  x1=float(input(\"Enter the initial point:\"))\n",
        "  dx=float(input(\"Enter step difference:\"))\n",
        "  # E=float(input(\"Enter the termination parameter:\"))\n",
        "  N, E = inputParameters()\n",
        "  \n",
        "  i=1\n",
        "  x=[]\n",
        "  x2=x1+dx\n",
        "  fx1=evalFunc(x1,s)\n",
        "  fx2=evalFunc(x2,s)\n",
        "  \n",
        "  print(\"x1=%f \\n\" %x1)\n",
        "  print(\"x2=%f \\n\" %x2)\n",
        "  print(\"f(x1)=%.5f \\n\" %fx1)\n",
        "  print(\"f(x2)=%.5f \\n\" %fx2)\n",
        " \n",
        "  if fx1>=fx2:\n",
        "    print(\"f(x1)>=f(x2) \\n\")\n",
        "    x3=x1+(2*dx)\n",
        "  else:\n",
        "    print(\"f(x1)<f(x2) \\n\")\n",
        "    x3=x1-dx\n",
        " \n",
        "  fx3=evalFunc(x3,s)\n",
        "  pk = 1\n",
        "  print(\"x3=%f \\n\" %x3)\n",
        "  print(\"f(x3)=%.5f \\n\" %fx3)\n",
        " \n",
        "  while (True and (pk <= N)):\n",
        "    pk += 1\n",
        "    print(\"\")\n",
        "    print(\"ITERATION %d\\n\"%i)\n",
        "    print(\"\")\n",
        "    print(\"x1=%.5f \\n\" %x1)\n",
        "    print(\"x2=%.5f \\n\" %x2)\n",
        "    print(\"x3=%.5f \\n\" %x3)\n",
        "    \n",
        "    fx1=evalFunc(x1,s)\n",
        "    fx2=evalFunc(x2,s)\n",
        "    fx3=evalFunc(x3,s)\n",
        "    print(\"f(x1)=%.5f \\n\" %fx1)\n",
        "    print(\"f(x2)=%.5f \\n\" %fx2)\n",
        "    print(\"f(x3)=%.5f \\n\" %fx3)\n",
        "    \n",
        "    fmin=min(fx1,fx2,fx3)\n",
        "    if fmin==fx1:\n",
        "        xmin=x1\n",
        "    elif fmin==fx2:\n",
        "        xmin=x2\n",
        "    elif fmin==fx3:\n",
        "        xmin=x3\n",
        "    print(\"Fmin = %.5f \\n\" %fmin)\n",
        "    print(\"Xmin = %.5f \\n\" %xmin)\n",
        "    \n",
        "    a1=(fx2-fx1)/(x2-x1)\n",
        "    a2=(1/(x3-x2))*(((fx3-fx1)/(x3-x1))-a1)\n",
        "    print(\"a1 = %0.5f ,a2 = %.5f \\n\" %(a1,a2))\n",
        "        \n",
        "    xbar=((x1+x2)/2)-(a1/(2*a2))\n",
        "    fxbar=evalFunc(xbar,s)\n",
        "    print(\"xbar=%.5f \\n\" %xbar)\n",
        "    print(\"fxbar=%.5f \\n\" %fxbar)\n",
        "    \n",
        "    F=abs(fmin-fxbar)\n",
        "    X=abs(xmin-xbar)\n",
        "    E=abs(E)\n",
        "    print(\"|Fmin-f(xbar)|=%.5f \\n\" %F)\n",
        "    print(\"|Xmin-xbar|=%.5f \\n\" %X)    \n",
        "    \n",
        "    if F<E and X<E:\n",
        "        print(\"|Fmin-f(xbar)|<E and |Xmin-xbar|<E\")\n",
        "        print(\"(They are small compared to E\\n)\")\n",
        "        y=[fmin,fxbar]\n",
        "        y.sort()                                               #sorts in ascending order\n",
        "        if y[0]==fmin:\n",
        "          a=xmin\n",
        "        else:\n",
        "          a=xbar\n",
        "        \n",
        "        print(\"The minimum is the best point\\n\")\n",
        "        print(\"The minimum lies at = %.5f\" %a)\n",
        "        break\n",
        "    \n",
        "    else:\n",
        "        print(\"|Fmin-f(xbar)| & |Xmin-xbar| are not small when compared to E\\n\")\n",
        "        y=[fx1,fx2,fx3,fxbar]\n",
        "        y.sort()                               \n",
        "        if y[0]==fx1:\n",
        "            a=x1\n",
        "        elif y[0]==fx2:\n",
        "            a=x2\n",
        "        elif y[0]==fx3:\n",
        "            a=x3\n",
        "        elif y[0]==fxbar:\n",
        "            a=xbar\n",
        "        if y[1]==fx1:\n",
        "            b=x1\n",
        "        elif y[1]==fx2:\n",
        "            b=x2\n",
        "        elif y[1]==fx3:\n",
        "            b=x3\n",
        "        elif y[1]==fxbar:\n",
        "            b=xbar\n",
        "        if y[2]==fx1:\n",
        "            c=x1\n",
        "        elif y[2]==fx2:\n",
        "            c=x2\n",
        "        elif y[2]==fx3:\n",
        "            c=x3\n",
        "        elif y[2]==fxbar:\n",
        "            c=xbar\n",
        "        x=[a,b,c]\n",
        "        x.sort()\n",
        "        print(\"The best 3 points are:\\n\",x)\n",
        "        x1=x[0]\n",
        "        x2=x[1]\n",
        "        x3=x[2]\n",
        "        \n",
        "    i=i+1"
      ],
      "execution_count": null,
      "outputs": []
    },
    {
      "cell_type": "markdown",
      "metadata": {
        "id": "yE11ctzTOq6P"
      },
      "source": [
        "### **Gradient Based Methods:**"
      ]
    },
    {
      "cell_type": "markdown",
      "metadata": {
        "id": "XxhIsLG2ll2P"
      },
      "source": [
        "#### **Bisection**"
      ]
    },
    {
      "cell_type": "code",
      "metadata": {
        "id": "QtCt3RLGliNj"
      },
      "source": [
        "# Bisection\n",
        " \n",
        "def Bisection():\n",
        "  \n",
        "  def derv(x):                                     #first derivative function\n",
        "    if (x<-0.01)or(x>0.01):\n",
        "        delx=0.01*abs(x)             \n",
        "    else:\n",
        "        delx=0.0001\n",
        "    return (evalFunc(x+delx,s)-evalFunc(x-delx,s))/(2*delx)\n",
        "  \n",
        "  s = str(input(\"Please enter your mathematical function:\\n\"))    # Input the mathematical expression\n",
        "  a=float(input(\"Enter lower bound 'a':\"))\n",
        "  b=float(input(\"Enter upper bound 'b':\"))\n",
        "  # E=float(input(\"Enter termination parameter:\"))\n",
        "  N, E = inputParameters()\n",
        "\n",
        "  if derv(a)>=0:\n",
        "    print(\"f'(a) is not negative; cant apply Secant Method\")\n",
        "    sys.exit()\n",
        "  \n",
        "  if derv(b)<=0:\n",
        "    print(\"f'(b) is not positive; cant apply Secant Method\")\n",
        "    sys.exit()\n",
        "  \n",
        "  i=1\n",
        "  pk = 1\n",
        "  \n",
        "  while (True and (pk <= N)):\n",
        "    pk += 1                                                  \n",
        "    z=(a+b)/2\n",
        "    \n",
        "    print(\"\\nITERATION\",i,\"\\n\")\n",
        "    print(\"z=\",np.round(z,5),\"\\n\")\n",
        "    print(\"f'(z)=\",np.round(derv(z),5),\"\\n\")\n",
        "    \n",
        "    if abs(derv(z))<E:\n",
        "        b=z\n",
        "        print(\"|f'(z)|<E\\n\")\n",
        "        print(\"Minimum lies at \",np.round(z,5))\n",
        "        break\n",
        "    elif derv(z)<0:\n",
        "        a=z\n",
        "        print(\"|f'(z)|<0\\n\")\n",
        "        print(\"New interval is (\",np.round(a,5),\",\",np.round(b,5),\")\")\n",
        "    elif derv(z)>0:\n",
        "        b=z\n",
        "        print(\"|f'(z)|>0\\n\")\n",
        "        print(\"New interval is (\",np.round(a,5),\",\",np.round(b,5),\")\")\n",
        "    i+=1"
      ],
      "execution_count": null,
      "outputs": []
    },
    {
      "cell_type": "markdown",
      "metadata": {
        "id": "_Vq-3ydMknKX"
      },
      "source": [
        "#### **Secant block**"
      ]
    },
    {
      "cell_type": "code",
      "metadata": {
        "id": "PLKX9V5gklFY"
      },
      "source": [
        "def Secant():\n",
        "  \n",
        "  def derv(x):                                     #first derivative function\n",
        "    if (x<-0.01)or(x>0.01):\n",
        "        delx=0.01*abs(x)             \n",
        "    else:\n",
        "        delx=0.0001\n",
        "    return (evalFunc(x+delx,s)-evalFunc(x-delx,s))/(2*delx)\n",
        "  \n",
        "  s = str(input(\"Please enter your mathematical function:\\n\"))    # Input the mathematical expression\n",
        "  a=float(input(\"Enter lower bound 'a':\"))\n",
        "  b=float(input(\"Enter upper bound 'b':\"))\n",
        "  # E=float(input(\"Enter termination parameter:\"))\n",
        "  N, E = inputParameters()\n",
        " \n",
        "  if derv(a)>=0:\n",
        "    print(\"f'(a) is not negative; cant apply Secant Method\")\n",
        "    sys.exit()\n",
        "  \n",
        "  if derv(b)<=0:\n",
        "    print(\"f'(b) is not positive; cant apply Secant Method\")\n",
        "    sys.exit()\n",
        "  \n",
        "  i=1\n",
        "  pk = 1\n",
        "  \n",
        "  while (True and (pk <= N)):                                                     #emulation of do while function\n",
        "    pk += 1\n",
        "    z=b-((b-a)*derv(b)/(derv(b)-derv(a)))\n",
        "    \n",
        "    print(\"\\nITERATION\",i,\"\\n\")\n",
        "    print(\"z=\",np.round(z,5),\"\\n\")\n",
        "    print(\"f'(z)=\",np.round(derv(z),5),\"\\n\")\n",
        "    \n",
        "    if abs(derv(z))<E:\n",
        "        b=z\n",
        "        print(\"|f'(z)|<E\\n\")\n",
        "        print(\"Minimum lies between (\",np.round(a,5),\",\",np.round(b,5),\")\")\n",
        "        break\n",
        "    elif derv(z)<0:\n",
        "        a=z\n",
        "        print(\"|f'(z)|>E\\n\")\n",
        "        print(\"|f'(z)|<0\\n\")\n",
        "        print(\"New interval is (\",np.round(a,5),\",\",np.round(b,5),\")\")\n",
        "    elif derv(z)>0:\n",
        "        b=z\n",
        "        print(\"|f'(z)|>E\\n\")\n",
        "        print(\"|f'(z)|>0\\n\")\n",
        "        print(\"New interval is (\",np.round(a,5),\",\",np.round(b,5),\")\")\n",
        "    i+=1"
      ],
      "execution_count": null,
      "outputs": []
    },
    {
      "cell_type": "markdown",
      "metadata": {
        "id": "yVe7bRaQhDsJ"
      },
      "source": [
        "#### **Newton Raphson**"
      ]
    },
    {
      "cell_type": "code",
      "metadata": {
        "id": "NRxqeUe1hoRL"
      },
      "source": [
        "def Newton_Raphson():\n",
        "  def derv(x):                                     #first derivative function\n",
        "    if (x<-0.01)or(x>0.01):\n",
        "        delx=0.01*abs(x)             \n",
        "    else:\n",
        "        delx=0.0001\n",
        "    return (evalFunc(x+delx,s)-evalFunc(x-delx,s))/(2*delx)\n",
        "  \n",
        "  def derv2(x):\n",
        "    if (x<-0.01)or(x>0.01):\n",
        "        delx=0.01*abs(x)             \n",
        "    else:\n",
        "        delx=0.0001\n",
        "    return (evalFunc(x+delx,s)+evalFunc(x-delx,s)-2*evalFunc(x,s))/(delx**2)\n",
        "  \n",
        "  s = str(input(\"Please enter your mathematical function:\\n\"))\n",
        "  xk=float(input(\"Enter initial guess:\"))\n",
        "  # E=float(input(\"Enter termination parameter:\"))\n",
        "  N, E = inputParameters()\n",
        "  i=0\n",
        " \n",
        "  print(\"\\nf'(x(\",i,\"))=\",np.round(derv(xk),5),\"\\n\")\n",
        "  pk = 1\n",
        " \n",
        "  while (True and (pk <= N)):\n",
        "    pk += 1\n",
        "    print(\"\\nITERATION\",i+1,\"\\n\")\n",
        "    print(\"f''(x(\",i,\"))=\",np.round(derv2(xk),5),\"\\n\")\n",
        "    \n",
        "    xk1=xk-(derv(xk)/(derv2(xk)))\n",
        "    \n",
        "    i+=1\n",
        "    print(\"x(\",i,\")=\",np.round(xk1,5),\"\\n\")\n",
        "    print(\"f'(x(\",i,\"))=\",np.round(derv(xk1),5),\"\\n\") \n",
        "    \n",
        "    if abs(derv(xk1))<E:\n",
        "        print(\"|f'(\",i,\")|<E\")\n",
        "        print(\"Minimum is at\",np.round(xk1,5))\n",
        "        break\n",
        "    else:\n",
        "        print(\"|f'(\",i,\")|>E\")\n",
        "        xk=xk1"
      ],
      "execution_count": null,
      "outputs": []
    },
    {
      "cell_type": "markdown",
      "metadata": {
        "id": "ybsrXhiTRo97"
      },
      "source": [
        "# **Multi Variable Optimization Algorithms**"
      ]
    },
    {
      "cell_type": "markdown",
      "metadata": {
        "id": "BkuBb8y6-56o"
      },
      "source": [
        "## **Unidirectional Search Algorithm**"
      ]
    },
    {
      "cell_type": "code",
      "metadata": {
        "id": "XJRpxZ3tqJrx"
      },
      "source": [
        "import numexpr as ne\n",
        "import numpy as np\n",
        "from sympy import *\n",
        "from sympy.parsing.sympy_parser import parse_expr\n",
        "\n",
        "def UnidirectionalSearch():\n",
        "\n",
        "  l_vars = str(input(\"Enter all variables in the objective function, with spaces: \"))\n",
        "  l_vars = l_vars.split(' ')\n",
        "  l_vars_dict = {}\n",
        "\n",
        "  # Obtaining a and b as lists\n",
        "  l_a = eval(input(\"Enter the position vector (in the form [x1,x2,...]).\"))\n",
        "  l_b = eval(input(\"Enter the direction vector (in the form [x1,x2,...]).\"))\n",
        "\n",
        "  l_bt = [] \n",
        "  l_f = []\n",
        "\n",
        "  for i in l_b:\n",
        "    l_bt.append('(' + str(i) + '*t' + ')')\n",
        "\n",
        "  for i in range(len(l_a)):\n",
        "    s = '(' + str(l_a[i]) + '+' + str(l_bt[i]) + ')'\n",
        "    l_f.append(s)\n",
        "    l_vars_dict[l_vars[i]] = s\n",
        "\n",
        "  # Obtaining the parametric function as a string\n",
        "  f = str(input(\"Enter the objective function: \"))\n",
        "  lkeys = l_vars_dict.keys()\n",
        "  for i in f:\n",
        "    if i in lkeys:\n",
        "      p = l_vars_dict[str(i)]\n",
        "      f = f.replace(i, p)\n",
        "\n",
        "  print('Parametric equation: ', f)\n",
        "  # print(l_vars_dict)\n",
        "  # print(l_vars_dict['x'])\n",
        "  # print(p)\n",
        "\n",
        "  t = Symbol('t')\n",
        "\n",
        "  # Converting the string into a Sympy expression\n",
        "  f_expr = parse_expr(f, evaluate = True)                                         \n",
        "\n",
        "  # Taking first and second derivatives of the Sympy expression\n",
        "  fd1 = f_expr.diff(t)\n",
        "  print(\"The first derivative of x(t): \", fd1)\n",
        "  sols1 = solve(fd1)\n",
        "  fd2 = fd1.diff(t)\n",
        "  print(\"The second derivative of x(t): \", fd2)\n",
        "\n",
        "  t = [float(i) for i in sols1]\n",
        "\n",
        "  print(\"Minimum value t =: \", t)\n",
        "\n",
        "  checkMin = []\n",
        "  sfd2 = str(fd2)\n",
        "  solstx = ne.evaluate(sfd2)\n",
        "\n",
        "  solst = solstx.tolist()\n",
        "\n",
        "  if ((type(solst) is int) or (type(solst) is float)):\n",
        "    solsty = solst\n",
        "    solst = []\n",
        "    solst.append(solsty)\n",
        "                                                         \n",
        "  for i in range(len(solst)):\n",
        "    if (solst[i] > 0):\n",
        "      print(\"f(\", t[i], \") = \", solst[i], \" > 0.\\n\") \n",
        "      checkMin.append(t[i])\n",
        "    else:\n",
        "      print(\"f(\", t[i], \") = \", solst[i], \" > 0.\\n\")\n",
        "\n",
        "  print(\"Minimum is at t: \", checkMin)\n",
        "  vector = []\n",
        "  t = checkMin\n",
        "  for i in lkeys:\n",
        "    xpr = l_vars_dict[i]\n",
        "    ans = ne.evaluate(xpr)\n",
        "    vector.append(ans)\n",
        "\n",
        "  print(\"x(t) = \", vector)"
      ],
      "execution_count": null,
      "outputs": []
    },
    {
      "cell_type": "markdown",
      "metadata": {
        "id": "QA59aYKwSpSg"
      },
      "source": [
        "## **Direct Search Algorithms:**"
      ]
    },
    {
      "cell_type": "markdown",
      "metadata": {
        "id": "qtuJYSqGu1Kl"
      },
      "source": [
        "### **Evolutionary Search**"
      ]
    },
    {
      "cell_type": "code",
      "metadata": {
        "id": "Ab-gQ64jMeTE"
      },
      "source": [
        "import numpy as np\n",
        "\n",
        "def EvolutionarySearch():\n",
        "  s_vars = str(input(\"Enter the variables in the objective function, seperated by spaces: \"))\n",
        "  l_vars = s_vars.split(' ')\n",
        "  flag = 0\n",
        "\n",
        "  xo = eval(input(\"Enter the initial point (in the form [x1,x2,...]): \"))\n",
        "  inc = eval(input(\"Enter the size reduction parameter (in the form [x1,x2,...]): \"))\n",
        "  fstr = str(input(\"Enter the objective function: \"))\n",
        "  # eps = float(input(\"Enter a termination parameter: \"))\n",
        "  N, eps = inputParameters()\n",
        "  count = 1\n",
        "  pk = 1\n",
        "\n",
        "  while ((flag == 0) and (pk <= N)):\n",
        "    pts = []\n",
        "    pk += 1\n",
        "    pts.append(xo)\n",
        "    print(\"\\n-------------------------------------------------------------------\\n\")\n",
        "    print(\"\\nIteration \", count, \":\\n\")\n",
        "    pts1 = createPoints(xo, inc, l_vars)\n",
        "    pts = pts + pts1\n",
        "    f_vals = []\n",
        "\n",
        "    for i in range(len(pts)):\n",
        "      f = solveFunction(fstr, pts[i], l_vars)\n",
        "      print(\"x(\", i, \") = \", pts[i], \" ; f(x(\", i, \")) = \", f, \"\\n\")\n",
        "      f_vals.append(f)\n",
        "    \n",
        "    ind = f_vals.index(min(f_vals))\n",
        "    xbar = pts[ind]\n",
        "    print(\"Minimum at \", xbar, \".\")\n",
        "\n",
        "    if (xbar == xo):\n",
        "      delta_norm = np.linalg.norm(inc)\n",
        "      if ((delta_norm / 2) < eps):\n",
        "        flag = 1\n",
        "      else:\n",
        "        xo = xbar\n",
        "        inc = np.array(inc)\n",
        "        inc = inc * 0.5\n",
        "        count += 1\n",
        "    else:\n",
        "      xo = xbar\n",
        "      count += 1"
      ],
      "execution_count": null,
      "outputs": []
    },
    {
      "cell_type": "markdown",
      "metadata": {
        "id": "CVuQ_p8bSxnC"
      },
      "source": [
        "### **Hooke - Jeeves Pattern Search**"
      ]
    },
    {
      "cell_type": "code",
      "metadata": {
        "id": "bofJqDK5pP-X"
      },
      "source": [
        "def ExploratorySearch(l_x1, l_inc1, f_str, l_vars):\n",
        "  vals_x = []\n",
        "  min_vals = []\n",
        "  l_inc = []\n",
        "  l_inc = l_inc1\n",
        "  l_x = list(l_x1)\n",
        "  xbar = list(l_x1)\n",
        "  # xbar2 = list(l_x1)\n",
        "  l_x2 = list(l_x1)\n",
        "  fstr = f_str\n",
        "\n",
        "  # Exploratory Search\n",
        "  print(\"\\nExploratory Search:\\n\")\n",
        "  l_temp = []\n",
        "  l_temp1 = []\n",
        "  count = 0\n",
        "  for i in range(len(l_x)):\n",
        "    vals_x_temp = []\n",
        "    print(\"Search along \", l_vars[i], \" direction:\\n\")\n",
        "\n",
        "    f = solveFunction(fstr, xbar, l_vars)\n",
        "    print(\"f = f(\", xbar, \") = \", f)\n",
        "    vals_x_temp.append(xbar)\n",
        "\n",
        "    l_temp = list(xbar)\n",
        "    l_temp[count] += l_inc[count]\n",
        "\n",
        "    f_plus = solveFunction(fstr, l_temp, l_vars)\n",
        "    print(\"f+ = f(\", l_temp, \") = \", f_plus)\n",
        "    vals_x_temp.append(l_temp)\n",
        "\n",
        "    l_temp1 = list(xbar)\n",
        "    l_temp1[count] -= l_inc[count]\n",
        "\n",
        "    f_minus = solveFunction(fstr, l_temp1, l_vars)\n",
        "    print(\"f- = f(\", l_temp1, \") = \", f_minus)\n",
        "    vals_x_temp.append(l_temp1)\n",
        "\n",
        "    min_f_temp = min(f, f_plus, f_minus)\n",
        "    if (min_f_temp == f):\n",
        "      vals_x.append(vals_x_temp[0])\n",
        "      xbar = vals_x_temp[0]\n",
        "      min_vals.append(f)\n",
        "      print(\"Minimum is at: xbar = \", xbar, \".\\n\")\n",
        "    elif (min_f_temp == f_plus):\n",
        "      vals_x.append(vals_x_temp[1])\n",
        "      xbar = vals_x_temp[1]\n",
        "      min_vals.append(f_plus)\n",
        "      print(\"Minimum is at: xbar = \", xbar, \".\\n\")\n",
        "    else:\n",
        "      vals_x.append(vals_x_temp[2])\n",
        "      xbar = vals_x_temp[2]\n",
        "      min_vals.append(f_minus)\n",
        "      print(\"Minimum is at: xbar = \", xbar, \".\\n\")\n",
        "      print(\"-----------------------------------------------------------------\\n\")\n",
        "    \n",
        "    count += 1\n",
        "  \n",
        "  ind = min_vals.index(min(min_vals))\n",
        "  xbar = vals_x[ind]\n",
        "  if (xbar == l_x):\n",
        "    print(\"x(0) = xbar.\\nHence, the Exploratory move is a failure.\\n\")\n",
        "    print(\"===================================================================\\n\")\n",
        "    result = \"Failure\"\n",
        "  else:\n",
        "    print(\"x(0) != xbar.\\nHence, the Exploratory move is a success.\\n\")\n",
        "    print(\"===================================================================\\n\")\n",
        "    result = \"Success\"\n",
        "  \n",
        "  return result, xbar "
      ],
      "execution_count": null,
      "outputs": []
    },
    {
      "cell_type": "code",
      "metadata": {
        "id": "pD6RMwfs7RYn"
      },
      "source": [
        "import numpy as np\n",
        "from operator import sub\n",
        "\n",
        "def PatternSearch(l_x, l_inc, l_vars, f_str, alpha = 2):\n",
        "  # eps = float(input(\"Enter the termination parameter: \"))\n",
        "  N, eps = inputParameters()\n",
        "  k, flag, flagx = 0, 0, 0\n",
        "\n",
        "  xk = []\n",
        "  x_next = l_x\n",
        "  xk.append(x_next)\n",
        "  pk = 1\n",
        "  \n",
        "  while ((flagx == 0) and (pk <= N)):\n",
        "    pk += 1\n",
        "    explore, xbar = ExploratorySearch(xk[-1], l_inc, f_str, l_vars)\n",
        "\n",
        "    if (explore == \"Success\"):\n",
        "      x_next = xbar\n",
        "      xk.append(x_next)\n",
        "      while (flag == 0):\n",
        "        k += 1\n",
        "        l11 = xk[k]\n",
        "        l12 = xk[k - 1]\n",
        "        xp_next = list(map(sub, ([(2 * i) for i in l11]), l12))\n",
        "        print(\"\\nPattern Move:\\n\\n\")\n",
        "        print(\"xp(\", (k + 1), \") = 2(\", xk[k], \") - (\", xk[k - 1], \")\\n\")\n",
        "        print(\"xp(\", (k + 1), \") = \", xp_next)\n",
        "        _, xbar = ExploratorySearch(xp_next, l_inc, f_str, l_vars)\n",
        "        xk.append(xbar)\n",
        "\n",
        "        fx_next = solveFunction(f_str, xk[-1], l_vars)\n",
        "        fx = solveFunction(f_str, xk[-2], l_vars)\n",
        "\n",
        "        if (fx_next < fx):\n",
        "          print(\"f(x(k+1)) < f(x(k)) = f(x(\", (k + 1), \")) < f(x(\", k, \"))\\n\")\n",
        "          print(fx_next, \"<\", fx, \"\\n\\n\")\n",
        "          flag = 0\n",
        "        else:\n",
        "          print(\"f(x(k+1)) > f(x(k)) = f(x(\", (k + 1), \")) > f(x(\", k, \"))\\n\")\n",
        "          print(fx_next, \">\", fx, \"\\n\\n\")\n",
        "          flag = 1\n",
        "\n",
        "    else:\n",
        "      flag = 1\n",
        "    \n",
        "    if (flag == 1):\n",
        "      delta_norm = np.linalg.norm(l_inc)\n",
        "      if (delta_norm > eps):\n",
        "        l_inc = np.array(l_inc)\n",
        "        l_inc = l_inc * (1 / alpha)\n",
        "        print(\"||delta|| = \", delta_norm, \"> epsilon (\", eps, \")\\n\")\n",
        "        print(\"delta = (delta / alpha) = \", l_inc)\n",
        "        # explore, xbar = ExploratorySearch(xk[-2], l_inc, f_str, l_vars)\n",
        "      else:\n",
        "        flagx = 1\n",
        "        print(\"Minimum lies at \", xbar)\n"
      ],
      "execution_count": null,
      "outputs": []
    },
    {
      "cell_type": "code",
      "metadata": {
        "id": "jgCsqJmzJzFG"
      },
      "source": [
        "def HookeJeeves():\n",
        "\n",
        "  l_vars = str(input(\"Enter all variables in the objective function, with spaces: \"))\n",
        "  l_vars = l_vars.split(' ')\n",
        "  # l_vars_dict = {}\n",
        "\n",
        "  # Obtaining a and b as lists\n",
        "  l_x = eval(input(\"Enter the initial point (in the form [x1,x2,...]).\"))\n",
        "  l_inc = eval(input(\"Enter the increment vector (in the form [x1,x2,...]).\"))\n",
        "  fstr = str(input(\"Enter the objective function: \"))\n",
        "\n",
        "  print(\"[x(0), y(0)] = \", l_x)\n",
        "  print(\"[delta(x), delta(y)] = \", l_inc)\n",
        "  \n",
        "  PatternSearch(l_x, l_inc, l_vars, fstr)"
      ],
      "execution_count": null,
      "outputs": []
    },
    {
      "cell_type": "markdown",
      "metadata": {
        "id": "3G2EWdcyS-Nl"
      },
      "source": [
        "# **Miscellaneous Helper Functions**"
      ]
    },
    {
      "cell_type": "markdown",
      "metadata": {
        "id": "fe4zCDqde2jh"
      },
      "source": [
        "## **inputParameters: Choose between number of iterations and termination parameter**"
      ]
    },
    {
      "cell_type": "code",
      "metadata": {
        "id": "Iovugv8JgHvD"
      },
      "source": [
        "def inputParameters():\n",
        "  eps = float(input(\"Enter the termination parameter: \"))\n",
        "  inp = str(input(\"Would you like to specify the number of iterations? (Y/N): \"))\n",
        "  n = 100\n",
        "  if (inp == \"Y\" or inp == \"y\"):\n",
        "    n = int(input(\"Enter the number of iterations: \"))\n",
        "  \n",
        "  return n, eps"
      ],
      "execution_count": null,
      "outputs": []
    },
    {
      "cell_type": "markdown",
      "metadata": {
        "id": "ELtbUUUoUZh8"
      },
      "source": [
        "## **createPoints: Create points for Evolutionary Search**"
      ]
    },
    {
      "cell_type": "code",
      "metadata": {
        "id": "DmK82kmiUoyn"
      },
      "source": [
        "import itertools\n",
        "\n",
        "def createPoints(x, delta, l_vars):\n",
        "  x1 = x\n",
        "  n = len(l_vars)\n",
        "  bin = [list(i) for i in itertools.product([0, 1], repeat=n)]\n",
        "\n",
        "  points = []\n",
        "  for i in range(len(bin)):\n",
        "    temp = []\n",
        "    for j in range(len(bin[i])):\n",
        "      if (bin[i][j] == 0):\n",
        "        d = x1[j] - (delta[j]/2)\n",
        "        temp.append(d)\n",
        "      else:\n",
        "        d = x1[j] + (delta[j]/2)\n",
        "        temp.append(d)\n",
        "    points.append(temp)\n",
        "  \n",
        "  return points"
      ],
      "execution_count": null,
      "outputs": []
    },
    {
      "cell_type": "markdown",
      "metadata": {
        "id": "FnPhr3-NhQCY"
      },
      "source": [
        "## **evalFunc: Function to evaluate string expressions**"
      ]
    },
    {
      "cell_type": "code",
      "metadata": {
        "id": "k7pLSHkYrH5F"
      },
      "source": [
        "import numexpr as ne\n",
        "\n",
        "def evalFunc(no, st):\n",
        "  x = no\n",
        "  y = ne.evaluate(st)\n",
        "\n",
        "  return y"
      ],
      "execution_count": null,
      "outputs": []
    },
    {
      "cell_type": "markdown",
      "metadata": {
        "id": "9K9pbLwrswS0"
      },
      "source": [
        "## **generatePlot: Generating plots for all single-variable algorithms**"
      ]
    },
    {
      "cell_type": "code",
      "metadata": {
        "id": "2RbuqU14tG-5"
      },
      "source": [
        "import matplotlib.pyplot as plt\n",
        " \n",
        "def generatePlot(x, y, pts, title):\n",
        "  plt.figure(figsize = [20, 10])\n",
        "  plt.plot(x, y)\n",
        "  plt.xlabel('x')\n",
        "  plt.ylabel('y')\n",
        "  plt.title(title)\n",
        " \n",
        "  x1 = []\n",
        "  y1 = []\n",
        " \n",
        "  for i in pts:\n",
        "    x1.append(i[0])\n",
        "    y1.append(i[1])\n",
        " \n",
        "  plt.scatter(x1, y1, marker = 'x', s = 100)\n",
        "  plt.grid()"
      ],
      "execution_count": null,
      "outputs": []
    },
    {
      "cell_type": "markdown",
      "metadata": {
        "id": "xJgdyT3DT8lU"
      },
      "source": [
        "## **solveFunction: Function to solve an expression against a homogenous solution**"
      ]
    },
    {
      "cell_type": "code",
      "metadata": {
        "id": "soNWK7Obmhst"
      },
      "source": [
        "import numexpr as ne\n",
        "\n",
        "def solveFunction(fn, vals, vars_a):\n",
        "  # dict_vals = {}\n",
        "  vars = vars_a\n",
        "  for i in range(len(vars)):\n",
        "    globals()[vars[i]] = vals[i]\n",
        "  \n",
        "  ans = ne.evaluate(fn)\n",
        "  return ans"
      ],
      "execution_count": null,
      "outputs": []
    },
    {
      "cell_type": "code",
      "metadata": {
        "id": "FsFXC-GsJsOk"
      },
      "source": [
        ""
      ],
      "execution_count": null,
      "outputs": []
    },
    {
      "cell_type": "markdown",
      "metadata": {
        "id": "UO4Hq5n7UCqR"
      },
      "source": [
        "# **SVO: Run the code here**\n",
        "Run this block to execute all single-variable optimization algorithms."
      ]
    },
    {
      "cell_type": "code",
      "metadata": {
        "id": "qL0GC8BWimyj",
        "colab": {
          "base_uri": "https://localhost:8080/"
        },
        "outputId": "dab0d45c-6cd2-496e-f674-33dc4625380d"
      },
      "source": [
        "# Code Initializer\n",
        "import sys\n",
        "import numpy as np\n",
        "from math import cos,sin,tan,sqrt,log10,pi,exp\n",
        " \n",
        "#x = np.linspace(a, b, 10000)\n",
        " \n",
        "while True:\n",
        "  print(\"Single Variable Optimization Methods\\n\\nE- Exhaustive Search\\nB- Bounding Phase\\nI- Interval Halving\\nF- Fibonacci Search\\nG- Golden Section Search\")\n",
        "  print(\"SQE- Successive Quadratic Estimation\\nBi- Bisection\\nSe- Secant\\nNr- Newton Raphson\\n\\n\")\n",
        "  ch = str(input(\"Please choose a Method:\\n\"))\n",
        "  \n",
        "  if ch==\"I\" or ch==\"i\":\n",
        "    Interval_Halving()\n",
        "  elif ch==\"Se\" or ch==\"se\":\n",
        "    Secant()\n",
        "  elif ch==\"Nr\" or ch==\"nr\":\n",
        "    Newton_Raphson()\n",
        "  elif ch==\"E\" or ch==\"e\":\n",
        "    Exhaustive_Search()\n",
        "  elif ch==\"Bi\" or ch==\"bi\":\n",
        "    Bisection()\n",
        "  elif ch==\"B\" or ch=='b':\n",
        "    Bounding_Phase()\n",
        "  elif ch==\"SQE\" or ch==\"sqe\":\n",
        "    Successive_Quadratic_Estimation()\n",
        "  elif ch=='F' or ch=='f':\n",
        "    Fibonacci_Search()\n",
        "  elif ch=='G' or ch=='g':\n",
        "    Golden_Section_Search()\n",
        "  else:\n",
        "    print(\"Invalid choice entered.\")\n",
        "  re=str(input(\"Run another method? (Y/N): \"))\n",
        "  if re!=\"Y\" and re!='y':\n",
        "    print(\"\\n\\n\")\n",
        "    break;"
      ],
      "execution_count": null,
      "outputs": [
        {
          "output_type": "stream",
          "text": [
            "Single Variable Optimization Methods\n",
            "\n",
            "E- Exhaustive Search\n",
            "B- Bounding Phase\n",
            "I- Interval Halving\n",
            "F- Fibonacci Search\n",
            "G- Golden Section Search\n",
            "SQE- Successive Quadratic Estimation\n",
            "Bi- Bisection\n",
            "Se- Secant\n",
            "Nr- Newton Raphson\n",
            "\n",
            "\n",
            "Please choose a Method:\n",
            "sqe\n",
            "Please enter your mathematical function:\n",
            "x**2+(54/x)\n",
            "Enter the initial point:1\n",
            "Enter step difference:1\n",
            "Enter the termination parameter: 0.01\n",
            "Would you like to specify the number of iterations? (Y/N): n\n",
            "x1=1.000000 \n",
            "\n",
            "x2=2.000000 \n",
            "\n",
            "f(x1)=55.00000 \n",
            "\n",
            "f(x2)=31.00000 \n",
            "\n",
            "f(x1)>=f(x2) \n",
            "\n",
            "x3=3.000000 \n",
            "\n",
            "f(x3)=27.00000 \n",
            "\n",
            "\n",
            "ITERATION 1\n",
            "\n",
            "\n",
            "x1=1.00000 \n",
            "\n",
            "x2=2.00000 \n",
            "\n",
            "x3=3.00000 \n",
            "\n",
            "f(x1)=55.00000 \n",
            "\n",
            "f(x2)=31.00000 \n",
            "\n",
            "f(x3)=27.00000 \n",
            "\n",
            "Fmin = 27.00000 \n",
            "\n",
            "Xmin = 3.00000 \n",
            "\n",
            "a1 = -24.00000 ,a2 = 10.00000 \n",
            "\n",
            "xbar=2.70000 \n",
            "\n",
            "fxbar=27.29000 \n",
            "\n",
            "|Fmin-f(xbar)|=0.29000 \n",
            "\n",
            "|Xmin-xbar|=0.30000 \n",
            "\n",
            "|Fmin-f(xbar)| & |Xmin-xbar| are not small when compared to E\n",
            "\n",
            "The best 3 points are:\n",
            " [2.0, 2.7, 3.0]\n",
            "\n",
            "ITERATION 2\n",
            "\n",
            "\n",
            "x1=2.00000 \n",
            "\n",
            "x2=2.70000 \n",
            "\n",
            "x3=3.00000 \n",
            "\n",
            "f(x1)=31.00000 \n",
            "\n",
            "f(x2)=27.29000 \n",
            "\n",
            "f(x3)=27.00000 \n",
            "\n",
            "Fmin = 27.00000 \n",
            "\n",
            "Xmin = 3.00000 \n",
            "\n",
            "a1 = -5.30000 ,a2 = 4.33333 \n",
            "\n",
            "xbar=2.96154 \n",
            "\n",
            "fxbar=27.00448 \n",
            "\n",
            "|Fmin-f(xbar)|=0.00448 \n",
            "\n",
            "|Xmin-xbar|=0.03846 \n",
            "\n",
            "|Fmin-f(xbar)| & |Xmin-xbar| are not small when compared to E\n",
            "\n",
            "The best 3 points are:\n",
            " [2.7, 2.9615384615384617, 3.0]\n",
            "\n",
            "ITERATION 3\n",
            "\n",
            "\n",
            "x1=2.70000 \n",
            "\n",
            "x2=2.96154 \n",
            "\n",
            "x3=3.00000 \n",
            "\n",
            "f(x1)=27.29000 \n",
            "\n",
            "f(x2)=27.00448 \n",
            "\n",
            "f(x3)=27.00000 \n",
            "\n",
            "Fmin = 27.00000 \n",
            "\n",
            "Xmin = 3.00000 \n",
            "\n",
            "a1 = -1.09171 ,a2 = 3.25108 \n",
            "\n",
            "xbar=2.99867 \n",
            "\n",
            "fxbar=27.00001 \n",
            "\n",
            "|Fmin-f(xbar)|=0.00001 \n",
            "\n",
            "|Xmin-xbar|=0.00133 \n",
            "\n",
            "|Fmin-f(xbar)|<E and |Xmin-xbar|<E\n",
            "(They are small compared to E\n",
            ")\n",
            "The minimum is the best point\n",
            "\n",
            "The minimum lies at = 3.00000\n",
            "Run another method? (Y/N): n\n",
            "\n",
            "\n",
            "\n"
          ],
          "name": "stdout"
        }
      ]
    },
    {
      "cell_type": "markdown",
      "metadata": {
        "id": "BkUYmGzINHW-"
      },
      "source": [
        "# **MVO: Run the code here**\n",
        "\n",
        "Run this block to execute all multi-variable optimization algorithms."
      ]
    },
    {
      "cell_type": "code",
      "metadata": {
        "id": "DawUI4OjNYCa",
        "colab": {
          "base_uri": "https://localhost:8080/",
          "height": 646
        },
        "outputId": "4458e1e0-0df4-499e-d224-4788948ef344"
      },
      "source": [
        "import sys\n",
        "import numpy as np\n",
        "from math import cos,sin,tan,sqrt,log10,pi,exp\n",
        " \n",
        "#x = np.linspace(a, b, 10000)\n",
        " \n",
        "while True:\n",
        "  print(\"Multi Variable Optimization Methods\\n\\nU - Unidirectional Search\\nE - Evolutionary Search\\nH - Hooke-Jeeves Pattern Search\\n\\n\")\n",
        "  ch = str(input(\"Please choose a method: \"))\n",
        "  \n",
        "  if ch==\"U\" or ch==\"u\":\n",
        "    UnidirectionalSearch()\n",
        "  elif ch==\"E\" or ch==\"e\":\n",
        "    EvolutionarySearch()\n",
        "  elif ch==\"H\" or ch==\"h\":\n",
        "    HookeJeeves()\n",
        "  else:\n",
        "    print(\"Invalid choice entered.\")\n",
        "  re=str(input(\"Run another method? (Y/N): \"))\n",
        "  if (re != \"Y\" and re != 'y'):\n",
        "    print(\"\\n\\n\")\n",
        "    break;"
      ],
      "execution_count": null,
      "outputs": [
        {
          "output_type": "stream",
          "text": [
            "Multi Variable Optimization Methods\n",
            "\n",
            "U - Unidirectional Search\n",
            "E - Evolutionary Search\n",
            "H - Hooke-Jeeves Pattern Search\n",
            "\n",
            "\n"
          ],
          "name": "stdout"
        },
        {
          "output_type": "error",
          "ename": "KeyboardInterrupt",
          "evalue": "ignored",
          "traceback": [
            "\u001b[0;31m---------------------------------------------------------------------------\u001b[0m",
            "\u001b[0;31mKeyboardInterrupt\u001b[0m                         Traceback (most recent call last)",
            "\u001b[0;32m/usr/local/lib/python3.6/dist-packages/ipykernel/kernelbase.py\u001b[0m in \u001b[0;36m_input_request\u001b[0;34m(self, prompt, ident, parent, password)\u001b[0m\n\u001b[1;32m    728\u001b[0m             \u001b[0;32mtry\u001b[0m\u001b[0;34m:\u001b[0m\u001b[0;34m\u001b[0m\u001b[0;34m\u001b[0m\u001b[0m\n\u001b[0;32m--> 729\u001b[0;31m                 \u001b[0mident\u001b[0m\u001b[0;34m,\u001b[0m \u001b[0mreply\u001b[0m \u001b[0;34m=\u001b[0m \u001b[0mself\u001b[0m\u001b[0;34m.\u001b[0m\u001b[0msession\u001b[0m\u001b[0;34m.\u001b[0m\u001b[0mrecv\u001b[0m\u001b[0;34m(\u001b[0m\u001b[0mself\u001b[0m\u001b[0;34m.\u001b[0m\u001b[0mstdin_socket\u001b[0m\u001b[0;34m,\u001b[0m \u001b[0;36m0\u001b[0m\u001b[0;34m)\u001b[0m\u001b[0;34m\u001b[0m\u001b[0;34m\u001b[0m\u001b[0m\n\u001b[0m\u001b[1;32m    730\u001b[0m             \u001b[0;32mexcept\u001b[0m \u001b[0mException\u001b[0m\u001b[0;34m:\u001b[0m\u001b[0;34m\u001b[0m\u001b[0;34m\u001b[0m\u001b[0m\n",
            "\u001b[0;32m/usr/local/lib/python3.6/dist-packages/jupyter_client/session.py\u001b[0m in \u001b[0;36mrecv\u001b[0;34m(self, socket, mode, content, copy)\u001b[0m\n\u001b[1;32m    802\u001b[0m         \u001b[0;32mtry\u001b[0m\u001b[0;34m:\u001b[0m\u001b[0;34m\u001b[0m\u001b[0;34m\u001b[0m\u001b[0m\n\u001b[0;32m--> 803\u001b[0;31m             \u001b[0mmsg_list\u001b[0m \u001b[0;34m=\u001b[0m \u001b[0msocket\u001b[0m\u001b[0;34m.\u001b[0m\u001b[0mrecv_multipart\u001b[0m\u001b[0;34m(\u001b[0m\u001b[0mmode\u001b[0m\u001b[0;34m,\u001b[0m \u001b[0mcopy\u001b[0m\u001b[0;34m=\u001b[0m\u001b[0mcopy\u001b[0m\u001b[0;34m)\u001b[0m\u001b[0;34m\u001b[0m\u001b[0;34m\u001b[0m\u001b[0m\n\u001b[0m\u001b[1;32m    804\u001b[0m         \u001b[0;32mexcept\u001b[0m \u001b[0mzmq\u001b[0m\u001b[0;34m.\u001b[0m\u001b[0mZMQError\u001b[0m \u001b[0;32mas\u001b[0m \u001b[0me\u001b[0m\u001b[0;34m:\u001b[0m\u001b[0;34m\u001b[0m\u001b[0;34m\u001b[0m\u001b[0m\n",
            "\u001b[0;32m/usr/local/lib/python3.6/dist-packages/zmq/sugar/socket.py\u001b[0m in \u001b[0;36mrecv_multipart\u001b[0;34m(self, flags, copy, track)\u001b[0m\n\u001b[1;32m    490\u001b[0m         \"\"\"\n\u001b[0;32m--> 491\u001b[0;31m         \u001b[0mparts\u001b[0m \u001b[0;34m=\u001b[0m \u001b[0;34m[\u001b[0m\u001b[0mself\u001b[0m\u001b[0;34m.\u001b[0m\u001b[0mrecv\u001b[0m\u001b[0;34m(\u001b[0m\u001b[0mflags\u001b[0m\u001b[0;34m,\u001b[0m \u001b[0mcopy\u001b[0m\u001b[0;34m=\u001b[0m\u001b[0mcopy\u001b[0m\u001b[0;34m,\u001b[0m \u001b[0mtrack\u001b[0m\u001b[0;34m=\u001b[0m\u001b[0mtrack\u001b[0m\u001b[0;34m)\u001b[0m\u001b[0;34m]\u001b[0m\u001b[0;34m\u001b[0m\u001b[0;34m\u001b[0m\u001b[0m\n\u001b[0m\u001b[1;32m    492\u001b[0m         \u001b[0;31m# have first part already, only loop while more to receive\u001b[0m\u001b[0;34m\u001b[0m\u001b[0;34m\u001b[0m\u001b[0;34m\u001b[0m\u001b[0m\n",
            "\u001b[0;32mzmq/backend/cython/socket.pyx\u001b[0m in \u001b[0;36mzmq.backend.cython.socket.Socket.recv\u001b[0;34m()\u001b[0m\n",
            "\u001b[0;32mzmq/backend/cython/socket.pyx\u001b[0m in \u001b[0;36mzmq.backend.cython.socket.Socket.recv\u001b[0;34m()\u001b[0m\n",
            "\u001b[0;32mzmq/backend/cython/socket.pyx\u001b[0m in \u001b[0;36mzmq.backend.cython.socket._recv_copy\u001b[0;34m()\u001b[0m\n",
            "\u001b[0;32m/usr/local/lib/python3.6/dist-packages/zmq/backend/cython/checkrc.pxd\u001b[0m in \u001b[0;36mzmq.backend.cython.checkrc._check_rc\u001b[0;34m()\u001b[0m\n",
            "\u001b[0;31mKeyboardInterrupt\u001b[0m: ",
            "\nDuring handling of the above exception, another exception occurred:\n",
            "\u001b[0;31mKeyboardInterrupt\u001b[0m                         Traceback (most recent call last)",
            "\u001b[0;32m<ipython-input-24-56a637cb1ea0>\u001b[0m in \u001b[0;36m<module>\u001b[0;34m()\u001b[0m\n\u001b[1;32m      7\u001b[0m \u001b[0;32mwhile\u001b[0m \u001b[0;32mTrue\u001b[0m\u001b[0;34m:\u001b[0m\u001b[0;34m\u001b[0m\u001b[0;34m\u001b[0m\u001b[0m\n\u001b[1;32m      8\u001b[0m   \u001b[0mprint\u001b[0m\u001b[0;34m(\u001b[0m\u001b[0;34m\"Multi Variable Optimization Methods\\n\\nU - Unidirectional Search\\nE - Evolutionary Search\\nH - Hooke-Jeeves Pattern Search\\n\\n\"\u001b[0m\u001b[0;34m)\u001b[0m\u001b[0;34m\u001b[0m\u001b[0;34m\u001b[0m\u001b[0m\n\u001b[0;32m----> 9\u001b[0;31m   \u001b[0mch\u001b[0m \u001b[0;34m=\u001b[0m \u001b[0mstr\u001b[0m\u001b[0;34m(\u001b[0m\u001b[0minput\u001b[0m\u001b[0;34m(\u001b[0m\u001b[0;34m\"Please choose a method: \"\u001b[0m\u001b[0;34m)\u001b[0m\u001b[0;34m)\u001b[0m\u001b[0;34m\u001b[0m\u001b[0;34m\u001b[0m\u001b[0m\n\u001b[0m\u001b[1;32m     10\u001b[0m \u001b[0;34m\u001b[0m\u001b[0m\n\u001b[1;32m     11\u001b[0m   \u001b[0;32mif\u001b[0m \u001b[0mch\u001b[0m\u001b[0;34m==\u001b[0m\u001b[0;34m\"U\"\u001b[0m \u001b[0;32mor\u001b[0m \u001b[0mch\u001b[0m\u001b[0;34m==\u001b[0m\u001b[0;34m\"u\"\u001b[0m\u001b[0;34m:\u001b[0m\u001b[0;34m\u001b[0m\u001b[0;34m\u001b[0m\u001b[0m\n",
            "\u001b[0;32m/usr/local/lib/python3.6/dist-packages/ipykernel/kernelbase.py\u001b[0m in \u001b[0;36mraw_input\u001b[0;34m(self, prompt)\u001b[0m\n\u001b[1;32m    702\u001b[0m             \u001b[0mself\u001b[0m\u001b[0;34m.\u001b[0m\u001b[0m_parent_ident\u001b[0m\u001b[0;34m,\u001b[0m\u001b[0;34m\u001b[0m\u001b[0;34m\u001b[0m\u001b[0m\n\u001b[1;32m    703\u001b[0m             \u001b[0mself\u001b[0m\u001b[0;34m.\u001b[0m\u001b[0m_parent_header\u001b[0m\u001b[0;34m,\u001b[0m\u001b[0;34m\u001b[0m\u001b[0;34m\u001b[0m\u001b[0m\n\u001b[0;32m--> 704\u001b[0;31m             \u001b[0mpassword\u001b[0m\u001b[0;34m=\u001b[0m\u001b[0;32mFalse\u001b[0m\u001b[0;34m,\u001b[0m\u001b[0;34m\u001b[0m\u001b[0;34m\u001b[0m\u001b[0m\n\u001b[0m\u001b[1;32m    705\u001b[0m         )\n\u001b[1;32m    706\u001b[0m \u001b[0;34m\u001b[0m\u001b[0m\n",
            "\u001b[0;32m/usr/local/lib/python3.6/dist-packages/ipykernel/kernelbase.py\u001b[0m in \u001b[0;36m_input_request\u001b[0;34m(self, prompt, ident, parent, password)\u001b[0m\n\u001b[1;32m    732\u001b[0m             \u001b[0;32mexcept\u001b[0m \u001b[0mKeyboardInterrupt\u001b[0m\u001b[0;34m:\u001b[0m\u001b[0;34m\u001b[0m\u001b[0;34m\u001b[0m\u001b[0m\n\u001b[1;32m    733\u001b[0m                 \u001b[0;31m# re-raise KeyboardInterrupt, to truncate traceback\u001b[0m\u001b[0;34m\u001b[0m\u001b[0;34m\u001b[0m\u001b[0;34m\u001b[0m\u001b[0m\n\u001b[0;32m--> 734\u001b[0;31m                 \u001b[0;32mraise\u001b[0m \u001b[0mKeyboardInterrupt\u001b[0m\u001b[0;34m\u001b[0m\u001b[0;34m\u001b[0m\u001b[0m\n\u001b[0m\u001b[1;32m    735\u001b[0m             \u001b[0;32melse\u001b[0m\u001b[0;34m:\u001b[0m\u001b[0;34m\u001b[0m\u001b[0;34m\u001b[0m\u001b[0m\n\u001b[1;32m    736\u001b[0m                 \u001b[0;32mbreak\u001b[0m\u001b[0;34m\u001b[0m\u001b[0;34m\u001b[0m\u001b[0m\n",
            "\u001b[0;31mKeyboardInterrupt\u001b[0m: "
          ]
        }
      ]
    }
  ]
}